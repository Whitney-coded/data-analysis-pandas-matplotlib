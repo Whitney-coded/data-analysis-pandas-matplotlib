## Dataset

You can use any CSV dataset. For example, the Iris dataset or your own data.

## Features

- Data loading and cleaning with pandas (handling missing values).
- Basic statistics and grouping.
- Visualizations including line charts, bar charts, histograms, and scatter plots.
- Plot customization with titles, labels, and legends.
- Error handling for file reading and data issues.

---
